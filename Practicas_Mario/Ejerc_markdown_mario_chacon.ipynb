{
 "cells": [
  {
   "cell_type": "markdown",
   "metadata": {},
   "source": [
    "![imagen](./img/ejercicios.png)\n",
    "# Markdown\n",
    "\n",
    "## Ejercicio 1\n",
    "Vamos a aplicar los conocimientos adquiridos en este notebook, intentando reproducir la siguiente imagen en markdown. En el link va la página: https://www.kaggle.com/\n",
    "\n",
    "**TIP**: en [este enlace](https://www.markdownguide.org/basic-syntax/) tienes más ejemplos, por si te atascas con algo :)\n"
   ]
  },
  {
   "cell_type": "markdown",
   "metadata": {},
   "source": [
    "![imagen](./img/md_ejercicio1.png)"
   ]
  },
  {
   "cell_type": "markdown",
   "metadata": {},
   "source": [
    "### Ejercicio de Mario \n",
    "\n",
    "Para este **ejercicio**, introduciremos la imagen anterior en nuestro notebook.\n",
    "\n",
    "Abajo se muestra la imagen, con nombre 'Ejercicio' y mostrando la ruta de la imagen que tenemos en el mismo directorio que el Notebook.\n",
    "\n",
    "![Ejercicio](./img/python.jpg)\n",
    "\n",
    "También añado la imagen del enunciado,\n",
    "\n",
    "![Ejercicio1](./img/ejercicio_markdown.png)"
   ]
  },
  {
   "cell_type": "markdown",
   "metadata": {},
   "source": [
    "# Aptitudes Data Scientist\n",
    "\n",
    "**Lo más importante**\n",
    "\n",
    "* Matemáticas\n",
    "* Programación\n",
    "    * SQL\n",
    "\n",
    "    ![ejercicio2](./img/python.png)\n",
    "    \n",
    "    * Python\n",
    "\n",
    "Otro tema importante es *Business Intelligence*\n",
    "\n",
    "Si tienes dudas, puedes escribirme a: [daniel@thebridgeschool.es](enlace)\n",
    "\n",
    "En esta página se aprende mucho de machine learning: [Página con ML]\n"
   ]
  },
  {
   "cell_type": "markdown",
   "metadata": {},
   "source": [
    "## Ejercicio 2\n",
    "Para este ejercicio vas a crear dos nuevos elementos que no hemos visto en la teoría: una tabla y una fórmula. Busca en la web la sintaxis y replica ambos elementos. Ojo con los espacios en blanco entre la tabla y la fórmula"
   ]
  },
  {
   "cell_type": "markdown",
   "metadata": {},
   "source": [
    "<div style=\"text-align:center\"><img src=\"./img/md_ejercicio2.png\" /></div>"
   ]
  },
  {
   "cell_type": "markdown",
   "metadata": {},
   "source": [
    "### Ejercicio 2 de Mario\n",
    "\n",
    "La tabla sería:\n",
    "\n",
    "| **Ramp up**  | **Data Analysis**  | **Machine Learning**  | **Data & Business**  |   |\n",
    "|---|---|---|---|---|\n",
    "|Python|EDA|Supervised   |Productivización   |   |\n",
    "|Estadística|R   |Non supervised   |Story telling   |   |\n",
    "|SQL|Feat. Eng,.   |Deep Learning   |API   |   |\n"
   ]
  },
  {
   "cell_type": "markdown",
   "metadata": {},
   "source": [
    "Y la fórmula:\n",
    "\n",
    "$$\\sqrt{3x-1} + (1 + x)^2"
   ]
  },
  {
   "cell_type": "markdown",
   "metadata": {},
   "source": [
    "***Nota***:\n",
    "La tabla he sido incapaz de cuadrar para una visualización más cómoda en código, siendo incapaz también de eliminar la última columna sin eliminar la tabla completa :S."
   ]
  },
  {
   "cell_type": "markdown",
   "metadata": {},
   "source": []
  }
 ],
 "metadata": {
  "kernelspec": {
   "display_name": "Python 3",
   "language": "python",
   "name": "python3"
  },
  "language_info": {
   "codemirror_mode": {
    "name": "ipython",
    "version": 3
   },
   "file_extension": ".py",
   "mimetype": "text/x-python",
   "name": "python",
   "nbconvert_exporter": "python",
   "pygments_lexer": "ipython3",
   "version": "3.8.3"
  }
 },
 "nbformat": 4,
 "nbformat_minor": 4
}
